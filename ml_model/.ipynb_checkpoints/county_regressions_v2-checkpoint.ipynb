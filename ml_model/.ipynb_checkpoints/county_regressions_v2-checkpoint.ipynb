{
 "cells": [
  {
   "cell_type": "code",
   "execution_count": 1,
   "metadata": {},
   "outputs": [],
   "source": [
    "import pandas as pd \n",
    "import numpy as np \n",
    "import matplotlib.pyplot as plt\n",
    "from scipy.optimize import curve_fit\n",
    "import statsmodels.api as sm\n",
    "from tqdm import tqdm_notebook\n",
    "import math"
   ]
  },
  {
   "cell_type": "code",
   "execution_count": 2,
   "metadata": {},
   "outputs": [],
   "source": [
    "# PARAMETERS -----\n",
    "# change_in_reaction: current reaction time of each county + change_in_reaction\n",
    "# memory_length: the memory length of the autoregressive model to choose which to fit \n",
    "change_in_reaction = 0\n",
    "memory_length = 7\n",
    "#------------------\n"
   ]
  },
  {
   "cell_type": "code",
   "execution_count": 3,
   "metadata": {},
   "outputs": [
    {
     "data": {
      "text/html": [
       "<div>\n",
       "<style scoped>\n",
       "    .dataframe tbody tr th:only-of-type {\n",
       "        vertical-align: middle;\n",
       "    }\n",
       "\n",
       "    .dataframe tbody tr th {\n",
       "        vertical-align: top;\n",
       "    }\n",
       "\n",
       "    .dataframe thead th {\n",
       "        text-align: right;\n",
       "    }\n",
       "</style>\n",
       "<table border=\"1\" class=\"dataframe\">\n",
       "  <thead>\n",
       "    <tr style=\"text-align: right;\">\n",
       "      <th></th>\n",
       "      <th>state</th>\n",
       "      <th>county</th>\n",
       "      <th>date</th>\n",
       "      <th>retail</th>\n",
       "      <th>grocery and pharmacy</th>\n",
       "      <th>parks</th>\n",
       "      <th>transit stations</th>\n",
       "      <th>workplaces</th>\n",
       "      <th>residential</th>\n",
       "      <th>cases</th>\n",
       "      <th>deaths</th>\n",
       "      <th>county_st</th>\n",
       "    </tr>\n",
       "  </thead>\n",
       "  <tbody>\n",
       "    <tr>\n",
       "      <td>0</td>\n",
       "      <td>Alabama</td>\n",
       "      <td>Baldwin County</td>\n",
       "      <td>2020-02-15</td>\n",
       "      <td>17.0</td>\n",
       "      <td>12.0</td>\n",
       "      <td>55.0</td>\n",
       "      <td>8.0</td>\n",
       "      <td>6.0</td>\n",
       "      <td>-2.0</td>\n",
       "      <td>0.0</td>\n",
       "      <td>0.0</td>\n",
       "      <td>Baldwin County, Alabama</td>\n",
       "    </tr>\n",
       "    <tr>\n",
       "      <td>1</td>\n",
       "      <td>Alabama</td>\n",
       "      <td>Baldwin County</td>\n",
       "      <td>2020-02-16</td>\n",
       "      <td>8.0</td>\n",
       "      <td>8.0</td>\n",
       "      <td>-12.0</td>\n",
       "      <td>7.0</td>\n",
       "      <td>-3.0</td>\n",
       "      <td>2.0</td>\n",
       "      <td>0.0</td>\n",
       "      <td>0.0</td>\n",
       "      <td>Baldwin County, Alabama</td>\n",
       "    </tr>\n",
       "    <tr>\n",
       "      <td>2</td>\n",
       "      <td>Alabama</td>\n",
       "      <td>Baldwin County</td>\n",
       "      <td>2020-02-17</td>\n",
       "      <td>9.0</td>\n",
       "      <td>9.0</td>\n",
       "      <td>31.0</td>\n",
       "      <td>7.0</td>\n",
       "      <td>-3.0</td>\n",
       "      <td>1.0</td>\n",
       "      <td>0.0</td>\n",
       "      <td>0.0</td>\n",
       "      <td>Baldwin County, Alabama</td>\n",
       "    </tr>\n",
       "    <tr>\n",
       "      <td>3</td>\n",
       "      <td>Alabama</td>\n",
       "      <td>Baldwin County</td>\n",
       "      <td>2020-02-18</td>\n",
       "      <td>7.0</td>\n",
       "      <td>8.0</td>\n",
       "      <td>21.0</td>\n",
       "      <td>7.5</td>\n",
       "      <td>2.0</td>\n",
       "      <td>0.0</td>\n",
       "      <td>0.0</td>\n",
       "      <td>0.0</td>\n",
       "      <td>Baldwin County, Alabama</td>\n",
       "    </tr>\n",
       "    <tr>\n",
       "      <td>4</td>\n",
       "      <td>Alabama</td>\n",
       "      <td>Baldwin County</td>\n",
       "      <td>2020-02-19</td>\n",
       "      <td>12.0</td>\n",
       "      <td>9.0</td>\n",
       "      <td>41.0</td>\n",
       "      <td>8.0</td>\n",
       "      <td>3.0</td>\n",
       "      <td>-1.0</td>\n",
       "      <td>0.0</td>\n",
       "      <td>0.0</td>\n",
       "      <td>Baldwin County, Alabama</td>\n",
       "    </tr>\n",
       "  </tbody>\n",
       "</table>\n",
       "</div>"
      ],
      "text/plain": [
       "     state          county        date  retail  grocery and pharmacy  parks  \\\n",
       "0  Alabama  Baldwin County  2020-02-15    17.0                  12.0   55.0   \n",
       "1  Alabama  Baldwin County  2020-02-16     8.0                   8.0  -12.0   \n",
       "2  Alabama  Baldwin County  2020-02-17     9.0                   9.0   31.0   \n",
       "3  Alabama  Baldwin County  2020-02-18     7.0                   8.0   21.0   \n",
       "4  Alabama  Baldwin County  2020-02-19    12.0                   9.0   41.0   \n",
       "\n",
       "   transit stations  workplaces  residential  cases  deaths  \\\n",
       "0               8.0         6.0         -2.0    0.0     0.0   \n",
       "1               7.0        -3.0          2.0    0.0     0.0   \n",
       "2               7.0        -3.0          1.0    0.0     0.0   \n",
       "3               7.5         2.0          0.0    0.0     0.0   \n",
       "4               8.0         3.0         -1.0    0.0     0.0   \n",
       "\n",
       "                 county_st  \n",
       "0  Baldwin County, Alabama  \n",
       "1  Baldwin County, Alabama  \n",
       "2  Baldwin County, Alabama  \n",
       "3  Baldwin County, Alabama  \n",
       "4  Baldwin County, Alabama  "
      ]
     },
     "execution_count": 3,
     "metadata": {},
     "output_type": "execute_result"
    }
   ],
   "source": [
    "master_df = pd.read_csv('../processed_data/google_data/master_df_counties.csv')\n",
    "master_df['county_st'] = master_df['county'].astype(str) + ', ' + master_df['state'].astype(str)\n",
    "master_df.head()"
   ]
  },
  {
   "cell_type": "code",
   "execution_count": 4,
   "metadata": {},
   "outputs": [],
   "source": [
    "\n",
    "#master_df = master_df.dropna() # TODO not sure if this is the only thing we canz do \n",
    "unique_county_st = master_df['county_st'].unique()\n",
    "master_df.reset_index(drop = True, inplace = True)\n",
    "len(unique_county_st)\n",
    "master_df.dropna(inplace = True)\n"
   ]
  },
  {
   "cell_type": "code",
   "execution_count": null,
   "metadata": {},
   "outputs": [],
   "source": [
    "\n",
    "    "
   ]
  },
  {
   "cell_type": "code",
   "execution_count": null,
   "metadata": {},
   "outputs": [
    {
     "data": {
      "application/vnd.jupyter.widget-view+json": {
       "model_id": "26da9918a45c42cf8a8963f544f5d7d9",
       "version_major": 2,
       "version_minor": 0
      },
      "text/plain": [
       "HBox(children=(IntProgress(value=0, max=1039), HTML(value='')))"
      ]
     },
     "metadata": {},
     "output_type": "display_data"
    }
   ],
   "source": [
    "unique_county_st = master_df['county_st'].unique() \n",
    "# find the date of the first case for every county\n",
    "for county_st in tqdm_notebook(unique_county_st): \n",
    "    county_st_idx = np.where(master_df['county_st'] == county_st)[0]\n",
    "    #t = np.arange(len(master_df['date'][county_st_idx]))\n",
    "    y = master_df['cases'][county_st_idx]\n",
    "    zero_days = len(y) - np.count_nonzero(y)\n",
    "    \n",
    "    \n",
    "    if zero_days >= len(y)-1:\n",
    "        # delete cases without any coronavirus data\n",
    "        master_df.drop(county_st_idx, inplace = True)\n",
    "        master_df.reset_index(drop = True, inplace = True)\n",
    "    "
   ]
  },
  {
   "cell_type": "code",
   "execution_count": null,
   "metadata": {},
   "outputs": [],
   "source": [
    "#master_df['cases'] = np.array(master_df['cases'])\n",
    "#master_df['log_cases'] = np.log(master_df.cases)"
   ]
  },
  {
   "cell_type": "code",
   "execution_count": null,
   "metadata": {},
   "outputs": [],
   "source": [
    "# find the date of the first case for every county\n",
    "def func(x, a,b):\n",
    "    return a*((b)**x)\n",
    "\n",
    "def fit(t, data):\n",
    "    t = sm.add_constant(t)\n",
    "    y = np.log(np.add(data,1))\n",
    "    mod = sm.OLS(y,t)\n",
    "    res = mod.fit()\n",
    "    a = res.params[0]\n",
    "    b = res.params[1]\n",
    "    \n",
    "    return np.exp(a),np.exp(b)\n",
    "\n",
    "unique_county_st = master_df['county_st'].unique()\n",
    "\n",
    "\n",
    "a_list = [] \n",
    "b_list = [] \n",
    "for county_st in tqdm_notebook(unique_county_st): \n",
    "    county_st_idx = np.where(master_df['county_st'] == county_st)[0]\n",
    "    #t = np.arange(len(master_df['date'][county_st_idx]))\n",
    "    y = master_df['cases'][county_st_idx].values\n",
    "    zero_days = len(y) - np.count_nonzero(y)\n",
    "    start_idx = zero_days\n",
    "    end_idx = len(y)-1\n",
    "    t = np.arange(np.count_nonzero(y)-1)\n",
    "    data = np.array(y[start_idx:end_idx]) \n",
    "    a,b = fit(t,data)\n",
    "    a_list.append(a)\n",
    "    b_list.append(b)\n",
    "\n",
    "parameters_df = pd.DataFrame(columns = ['county_st', 'a','b']) #y = ab^t\n",
    "parameters_df['county_st'] = unique_county_st\n",
    "parameters_df['a'] = a_list\n",
    "parameters_df['b'] = b_list"
   ]
  },
  {
   "cell_type": "code",
   "execution_count": null,
   "metadata": {},
   "outputs": [],
   "source": [
    "parameters_df.to_csv('parameters.csv', index =None)"
   ]
  },
  {
   "cell_type": "code",
   "execution_count": null,
   "metadata": {},
   "outputs": [],
   "source": [
    "parameters_df"
   ]
  },
  {
   "cell_type": "code",
   "execution_count": null,
   "metadata": {},
   "outputs": [],
   "source": [
    "reaction_df = pd.read_csv('../processed_data/google_data/county_gr_rt_transit.csv')\n",
    "county_to_reaction=dict(zip(reaction_df['county'], reaction_df['reaction_time'])) "
   ]
  },
  {
   "cell_type": "code",
   "execution_count": null,
   "metadata": {},
   "outputs": [],
   "source": [
    "parameters_df.insert(3, 'reaction_time', parameters_df['county_st'].map(county_to_reaction))"
   ]
  },
  {
   "cell_type": "code",
   "execution_count": null,
   "metadata": {},
   "outputs": [],
   "source": [
    "plt.scatter(parameters_df['reaction_time'],parameters_df['b'])"
   ]
  },
  {
   "cell_type": "code",
   "execution_count": null,
   "metadata": {},
   "outputs": [],
   "source": [
    "county_to_b=dict(zip(parameters_df['county_st'], parameters_df['b'])) \n",
    "county_to_a=dict(zip(parameters_df['county_st'], parameters_df['a'])) "
   ]
  },
  {
   "cell_type": "code",
   "execution_count": null,
   "metadata": {},
   "outputs": [],
   "source": [
    "def b_new(b, reaction_time, change_in_reaction):\n",
    "    y1 = 0.09704/(1+4.04421*math.exp(-0.424991*reaction_time)) + 1.07\n",
    "    y2 = 0.09704/(1+4.04421*math.exp(-0.424991*(reaction_time + change_in_reaction))) + 1.07\n",
    "    ret = (b * (y2/(y1))) / 1.02\n",
    "    if ret >= 1.3:\n",
    "        print(\"f\")\n",
    "    if ret <= 1.01: \n",
    "        return 1.01 # assume there is still moderate growth despite it going close to zero\n",
    "    return ret"
   ]
  },
  {
   "cell_type": "code",
   "execution_count": null,
   "metadata": {},
   "outputs": [],
   "source": [
    "import numpy.linalg as npl\n",
    "def reaction(t, reaction_change, M):\n",
    "    if reaction_change == 0:\n",
    "        return t\n",
    "    elif reaction_change > 0:\n",
    "        ret = np.zeros(len(t))\n",
    "        ret[-(len(t)-reaction_change):] = t[:len(t)-reaction_change]\n",
    "        return ret\n",
    "    else:\n",
    "        if(len(t) < M): #error check\n",
    "            print(\"Error: memory length too long\")\n",
    "            return\n",
    "\n",
    "        last = min(t)\n",
    "        ret = np.ones(len(t))*last\n",
    "        ret[:len(t)-2] = t[2:]\n",
    "        N = len(t)\n",
    "        ###regressive model starts here\n",
    "        y = t[M:]\n",
    "        t_no = t\n",
    "        t = np.array(t)\n",
    "        idx,_ = np.mgrid[0:N-M, 0:M] + np.arange(0,M)\n",
    "        X = t[idx]\n",
    "\n",
    "        #sol = npl.lstsq(X, y, rcond=None)\n",
    "        sol = npl.lstsq(np.array(X, dtype = 'float'), np.array(t[M:], dtype ='float'))\n",
    "        beta = np.array(sol[0])\n",
    "        theta = sol[0]\n",
    "        SSE = sol[1]\n",
    "\n",
    "        future = -1 * reaction_change\n",
    "        predict = X @ theta\n",
    "        x = np.array(t[-M:])\n",
    "        all_predictions = [] \n",
    "        for i in range(future): #create prediction values y and append to predict array\n",
    "            #print(i)\n",
    "            y = x @ theta\n",
    "            if y <= -100: \n",
    "                y = -100 \n",
    "            if y >= 100:\n",
    "                y= 100\n",
    "            all_predictions.append(y)\n",
    "            predict = np.append(predict, y)\n",
    "            x = np.append(x, y)\n",
    "            x = np.delete(x, 0)\n",
    "\n",
    "\n",
    "        ret = t_no[-(len(t) + reaction_change):] + all_predictions\n",
    "\n",
    "        return(ret)"
   ]
  },
  {
   "cell_type": "code",
   "execution_count": null,
   "metadata": {},
   "outputs": [],
   "source": []
  },
  {
   "cell_type": "code",
   "execution_count": null,
   "metadata": {},
   "outputs": [],
   "source": [
    "def func(x, a,b):\n",
    "    return a*((b)**x)\n",
    "\n",
    "\n",
    "change_in_reaction = -20\n",
    "\n",
    "pred_df = pd.DataFrame(columns = ['state', 'county','county_st', 'date','cases_pred', 'transit_pred'])\n",
    "\n",
    "rows_list = []\n",
    "for county_st in tqdm_notebook(unique_county_st): \n",
    "    county_st_idx = np.where(master_df['county_st'] == county_st)[0]\n",
    "    #t = np.arange(len(master_df['date'][county_st_idx]))\n",
    "    y = master_df['cases'][county_st_idx].values\n",
    "    transit_series = list(master_df['transit stations'][county_st_idx].values)\n",
    "    zero_days = len(y) - np.count_nonzero(y)\n",
    "    start_idx = zero_days\n",
    "    end_idx = len(y)-1\n",
    "    t = np.arange(np.count_nonzero(y))\n",
    "    total_t = np.arange(len(y))\n",
    "    \n",
    "    a = county_to_a[county_st]\n",
    "    b = county_to_b[county_st]\n",
    "    if county_st in county_to_reaction and b > 1:\n",
    "        reaction_time = county_to_reaction[county_st]\n",
    "        transit_reaction = np.array(reaction(transit_series,\\\n",
    "                                             reaction_change = change_in_reaction, M= memory_length))\n",
    "        \n",
    "        \n",
    "        zeros = np.zeros(zero_days)\n",
    "        new_b = b_new(b, reaction_time, change_in_reaction)\n",
    "        pred = np.array(func(t, a, new_b)) # predicts from the first day there was a case to the last day\n",
    "        total_pred = np.append(zeros, pred)\n",
    "        if len(transit_reaction) != 56 or len(total_pred) != 56: \n",
    "            continue\n",
    "        \n",
    "        \n",
    "        df = pd.DataFrame(columns = ['state', 'county','county_st', 'date','cases_pred', 'transit_pred'])\n",
    "        \n",
    "        df['state'] =  master_df['state'][county_st_idx]\n",
    "        df['county'] = master_df['county'][county_st_idx]\n",
    "        df['county_st'] = master_df['county_st'][county_st_idx]\n",
    "        df['date'] = master_df['date'][county_st_idx]\n",
    "        df['cases_pred'] = total_pred\n",
    "        df['transit_pred'] = transit_reaction\n",
    "        pred_df = pred_df.append(df)\n",
    "        \n",
    "    else:\n",
    "        master_df.drop(county_st_idx, inplace = True)\n",
    "        master_df.reset_index(drop = True, inplace = True)\n",
    "        "
   ]
  },
  {
   "cell_type": "code",
   "execution_count": null,
   "metadata": {},
   "outputs": [],
   "source": [
    "pred_df.head()"
   ]
  },
  {
   "cell_type": "code",
   "execution_count": null,
   "metadata": {},
   "outputs": [],
   "source": [
    "pred_df.to_csv(f'output/output_change_({change_in_reaction})_memory_({memory_length}).csv',index = None)"
   ]
  },
  {
   "cell_type": "code",
   "execution_count": null,
   "metadata": {},
   "outputs": [],
   "source": [
    "index = np.where(pred_df['date'] == '2020-04-10')"
   ]
  },
  {
   "cell_type": "code",
   "execution_count": null,
   "metadata": {},
   "outputs": [],
   "source": [
    "np.sum(pred_df[pred_df['date'] == '2020-04-10']['cases_pred'])"
   ]
  },
  {
   "cell_type": "code",
   "execution_count": null,
   "metadata": {},
   "outputs": [],
   "source": [
    "-5: 495765.4378180822\n",
    "-10: 494620.81318434526\n",
    "-15: 486434.9680706658\n",
    "-20: 431304.11333196115\n",
    "-25: 241017.6236945807\n",
    "-30: 99809.79236140879"
   ]
  },
  {
   "cell_type": "code",
   "execution_count": null,
   "metadata": {},
   "outputs": [],
   "source": []
  }
 ],
 "metadata": {
  "kernelspec": {
   "display_name": "Python 3",
   "language": "python",
   "name": "python3"
  },
  "language_info": {
   "codemirror_mode": {
    "name": "ipython",
    "version": 3
   },
   "file_extension": ".py",
   "mimetype": "text/x-python",
   "name": "python",
   "nbconvert_exporter": "python",
   "pygments_lexer": "ipython3",
   "version": "3.7.4"
  }
 },
 "nbformat": 4,
 "nbformat_minor": 2
}
