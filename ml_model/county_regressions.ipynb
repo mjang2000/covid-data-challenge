{
 "cells": [
  {
   "cell_type": "code",
   "execution_count": 25,
   "metadata": {},
   "outputs": [],
   "source": [
    "import pandas as pd \n",
    "import numpy as np \n",
    "import matplotlib.pyplot as plt\n",
    "from scipy.optimize import curve_fit\n",
    "from sklearn.preprocessing import PolynomialFeatures\n"
   ]
  },
  {
   "cell_type": "code",
   "execution_count": 26,
   "metadata": {},
   "outputs": [],
   "source": [
    "master_df = pd.read_csv('../processed_data/google_data/master_df_counties.csv')"
   ]
  },
  {
   "cell_type": "code",
   "execution_count": 27,
   "metadata": {},
   "outputs": [
    {
     "data": {
      "text/html": [
       "<div>\n",
       "<style scoped>\n",
       "    .dataframe tbody tr th:only-of-type {\n",
       "        vertical-align: middle;\n",
       "    }\n",
       "\n",
       "    .dataframe tbody tr th {\n",
       "        vertical-align: top;\n",
       "    }\n",
       "\n",
       "    .dataframe thead th {\n",
       "        text-align: right;\n",
       "    }\n",
       "</style>\n",
       "<table border=\"1\" class=\"dataframe\">\n",
       "  <thead>\n",
       "    <tr style=\"text-align: right;\">\n",
       "      <th></th>\n",
       "      <th>state</th>\n",
       "      <th>county</th>\n",
       "      <th>date</th>\n",
       "      <th>retail</th>\n",
       "      <th>grocery and pharmacy</th>\n",
       "      <th>parks</th>\n",
       "      <th>transit stations</th>\n",
       "      <th>workplaces</th>\n",
       "      <th>residential</th>\n",
       "      <th>cases</th>\n",
       "      <th>deaths</th>\n",
       "      <th>county_st</th>\n",
       "    </tr>\n",
       "  </thead>\n",
       "  <tbody>\n",
       "    <tr>\n",
       "      <td>0</td>\n",
       "      <td>Alabama</td>\n",
       "      <td>Baldwin County</td>\n",
       "      <td>2020-02-15</td>\n",
       "      <td>17.0</td>\n",
       "      <td>12.0</td>\n",
       "      <td>55.0</td>\n",
       "      <td>8.0</td>\n",
       "      <td>6.0</td>\n",
       "      <td>-2.0</td>\n",
       "      <td>0.0</td>\n",
       "      <td>0.0</td>\n",
       "      <td>Baldwin County, Alabama</td>\n",
       "    </tr>\n",
       "    <tr>\n",
       "      <td>1</td>\n",
       "      <td>Alabama</td>\n",
       "      <td>Baldwin County</td>\n",
       "      <td>2020-02-16</td>\n",
       "      <td>8.0</td>\n",
       "      <td>8.0</td>\n",
       "      <td>-12.0</td>\n",
       "      <td>7.0</td>\n",
       "      <td>-3.0</td>\n",
       "      <td>2.0</td>\n",
       "      <td>0.0</td>\n",
       "      <td>0.0</td>\n",
       "      <td>Baldwin County, Alabama</td>\n",
       "    </tr>\n",
       "    <tr>\n",
       "      <td>2</td>\n",
       "      <td>Alabama</td>\n",
       "      <td>Baldwin County</td>\n",
       "      <td>2020-02-17</td>\n",
       "      <td>9.0</td>\n",
       "      <td>9.0</td>\n",
       "      <td>31.0</td>\n",
       "      <td>7.0</td>\n",
       "      <td>-3.0</td>\n",
       "      <td>1.0</td>\n",
       "      <td>0.0</td>\n",
       "      <td>0.0</td>\n",
       "      <td>Baldwin County, Alabama</td>\n",
       "    </tr>\n",
       "    <tr>\n",
       "      <td>3</td>\n",
       "      <td>Alabama</td>\n",
       "      <td>Baldwin County</td>\n",
       "      <td>2020-02-18</td>\n",
       "      <td>7.0</td>\n",
       "      <td>8.0</td>\n",
       "      <td>21.0</td>\n",
       "      <td>7.5</td>\n",
       "      <td>2.0</td>\n",
       "      <td>0.0</td>\n",
       "      <td>0.0</td>\n",
       "      <td>0.0</td>\n",
       "      <td>Baldwin County, Alabama</td>\n",
       "    </tr>\n",
       "    <tr>\n",
       "      <td>4</td>\n",
       "      <td>Alabama</td>\n",
       "      <td>Baldwin County</td>\n",
       "      <td>2020-02-19</td>\n",
       "      <td>12.0</td>\n",
       "      <td>9.0</td>\n",
       "      <td>41.0</td>\n",
       "      <td>8.0</td>\n",
       "      <td>3.0</td>\n",
       "      <td>-1.0</td>\n",
       "      <td>0.0</td>\n",
       "      <td>0.0</td>\n",
       "      <td>Baldwin County, Alabama</td>\n",
       "    </tr>\n",
       "  </tbody>\n",
       "</table>\n",
       "</div>"
      ],
      "text/plain": [
       "     state          county        date  retail  grocery and pharmacy  parks  \\\n",
       "0  Alabama  Baldwin County  2020-02-15    17.0                  12.0   55.0   \n",
       "1  Alabama  Baldwin County  2020-02-16     8.0                   8.0  -12.0   \n",
       "2  Alabama  Baldwin County  2020-02-17     9.0                   9.0   31.0   \n",
       "3  Alabama  Baldwin County  2020-02-18     7.0                   8.0   21.0   \n",
       "4  Alabama  Baldwin County  2020-02-19    12.0                   9.0   41.0   \n",
       "\n",
       "   transit stations  workplaces  residential  cases  deaths  \\\n",
       "0               8.0         6.0         -2.0    0.0     0.0   \n",
       "1               7.0        -3.0          2.0    0.0     0.0   \n",
       "2               7.0        -3.0          1.0    0.0     0.0   \n",
       "3               7.5         2.0          0.0    0.0     0.0   \n",
       "4               8.0         3.0         -1.0    0.0     0.0   \n",
       "\n",
       "                 county_st  \n",
       "0  Baldwin County, Alabama  \n",
       "1  Baldwin County, Alabama  \n",
       "2  Baldwin County, Alabama  \n",
       "3  Baldwin County, Alabama  \n",
       "4  Baldwin County, Alabama  "
      ]
     },
     "execution_count": 27,
     "metadata": {},
     "output_type": "execute_result"
    }
   ],
   "source": [
    "master_df['county_st'] = master_df['county'].astype(str) + ', ' + master_df['state'].astype(str)\n",
    "master_df.head()"
   ]
  },
  {
   "cell_type": "code",
   "execution_count": 4,
   "metadata": {},
   "outputs": [
    {
     "data": {
      "text/plain": [
       "Text(0, 0.5, 'cases')"
      ]
     },
     "execution_count": 4,
     "metadata": {},
     "output_type": "execute_result"
    },
    {
     "data": {
      "image/png": "[encoded data removed]",
      "text/plain": [
       "<Figure size 432x288 with 1 Axes>"
      ]
     },
     "metadata": {
      "needs_background": "light"
     },
     "output_type": "display_data"
    }
   ],
   "source": [
    "county_state = 'Los Angeles County, California'\n",
    "\n",
    "county_st_idx = np.where(master_df['county_st'] == county_state)[0]\n",
    "# t is decrease, y is cases\n",
    "old_t = master_df['transit stations'][county_st_idx]\n",
    "old_y = master_df['cases'][county_st_idx]\n",
    "plt.plot(old_t,old_y)\n",
    "plt.xlabel('transit')\n",
    "plt.ylabel('cases')"
   ]
  },
  {
   "cell_type": "code",
   "execution_count": 5,
   "metadata": {},
   "outputs": [
    {
     "data": {
      "text/plain": [
       "[<matplotlib.lines.Line2D at 0x11e5b7210>]"
      ]
     },
     "execution_count": 5,
     "metadata": {},
     "output_type": "execute_result"
    },
    {
     "data": {
      "image/png": "[encoded data removed]",
      "text/plain": [
       "<Figure size 432x288 with 1 Axes>"
      ]
     },
     "metadata": {
      "needs_background": "light"
     },
     "output_type": "display_data"
    }
   ],
   "source": [
    "# the above isn't really a function, let's sort by transit decrease to smooth it out a little bit \n",
    "new_y = [x for _,x in sorted(zip(old_t,old_y))]\n",
    "new_t = sorted(old_t)\n",
    "plt.plot(new_t,new_y)"
   ]
  },
  {
   "cell_type": "code",
   "execution_count": 6,
   "metadata": {},
   "outputs": [],
   "source": [
    "X = np.array(new_t)\n",
    "y = np.array(new_y)\n",
    "# have to make the X values positive \n",
    "if X[0] < 0:\n",
    "    shiftamt = abs(X[0])\n",
    "    X_shift = X+shiftamt\n",
    "    \n",
    "else:\n",
    "    shiftamt = 0 \n",
    "    X_shift = X\n"
   ]
  },
  {
   "cell_type": "code",
   "execution_count": 7,
   "metadata": {},
   "outputs": [
    {
     "name": "stderr",
     "output_type": "stream",
     "text": [
      "/Users/thomastran/opt/anaconda3/lib/python3.7/site-packages/ipykernel_launcher.py:7: RuntimeWarning: invalid value encountered in power\n",
      "  import sys\n"
     ]
    },
    {
     "data": {
      "image/png": "[encoded data removed]",
      "text/plain": [
       "<Figure size 432x288 with 1 Axes>"
      ]
     },
     "metadata": {
      "needs_background": "light"
     },
     "output_type": "display_data"
    }
   ],
   "source": [
    "from scipy.optimize import curve_fit\n",
    "\n",
    "#Define your function\n",
    "#def func(x, a, b, c):\n",
    "#    return a*np.exp(-b*x) + c\n",
    "def func(x, a, b, c):\n",
    "    return a*b**(x)+c\n",
    "\n",
    "\n",
    "# Using the python scipy function curve_fit with function and input variables\n",
    "popt, pcov = curve_fit(func, X_shift, y)\n",
    "#plt.plot(X_shift-shiftamt,y,X_shift-shiftamt, func(X_shift,popt[0],popt[1],popt[2]))\n",
    "plt.plot(old_t, old_y, X_shift-shiftamt,func(X_shift,popt[0],popt[1],popt[2]))\n",
    "plt.title('curve fit')\n",
    "plt.xlabel('transit percentage change')\n",
    "plt.ylabel('cases')\n",
    "plt.show()"
   ]
  },
  {
   "cell_type": "code",
   "execution_count": 28,
   "metadata": {},
   "outputs": [],
   "source": [
    "# find a relationship between exponential coefficient a and the reaction time. \n",
    "# once I can do this, I can create just shift my model by however much I want to decrease/increase reaction time \n",
    "# but then I can generate the exact same curve from the coefficients found earlier. \n",
    "\n",
    "# TAKE THE DIFFERENCE OF USER INPUT REACTION TIME AND SUBTRACT IT WITH OUR CURRENT REACTION TIME \n",
    "# WHAT IF I REACTED 10 DAYS SOONER?? \n",
    "\n",
    "# SO I MUST HAVE A RELATIONSHIP between reaction time and coefficients\n",
    "\n",
    "# graph coefficients over rea\n",
    "#Define your function\n",
    "def func(x, a, b, c):\n",
    "    return a*np.exp(-b*x) + c\n",
    "\n",
    "# create a function to do what I did above \n",
    "def fit_cases_transit(county_state): \n",
    "    county_st_idx = np.where(master_df['county_st'] == county_state)[0]\n",
    "    if (len(county_st_idx)) != 56: \n",
    "        return None, None, None\n",
    "    old_t = master_df['transit stations'][county_st_idx]\n",
    "    old_y = master_df['cases'][county_st_idx]\n",
    "    y = np.array([x for _,x in sorted(zip(old_t,old_y))])\n",
    "    t = np.array(sorted(old_t))\n",
    "    \n",
    "    \n",
    "    # have to make the X values positive \n",
    "    if t[0] < 0:\n",
    "        shiftamt = abs(t[0])\n",
    "        t_shift = t+shiftamt\n",
    "\n",
    "    else:\n",
    "        shiftamt = 0 \n",
    "        t_shift = t\n",
    "    # Using the python scipy function curve_fit with function and input variables\n",
    "    popt, pcov = curve_fit(func, X_shift, y, maxfev=5000)\n",
    "    #plt.plot(X_shift-shiftamt,y,X_shift-shiftamt, func(X_shift,popt[0],popt[1],popt[2]))\n",
    "    #plt.plot(old_t, old_y, X_shift-shiftamt,func(X_shift,popt[0],popt[1],popt[2]))\n",
    "    \n",
    "    return popt[0],popt[1],popt[2]"
   ]
  },
  {
   "cell_type": "code",
   "execution_count": 29,
   "metadata": {},
   "outputs": [
    {
     "name": "stdout",
     "output_type": "stream",
     "text": [
      "(68.22217264461806, 0.09866201409423786, -0.7159290849172818)\n"
     ]
    },
    {
     "name": "stderr",
     "output_type": "stream",
     "text": [
      "/Users/thomastran/opt/anaconda3/lib/python3.7/site-packages/ipykernel_launcher.py:13: RuntimeWarning: overflow encountered in exp\n",
      "  del sys.path[0]\n"
     ]
    }
   ],
   "source": [
    "unique_county_st = master_df['county_st'].unique()\n",
    "parameters = fit_cases_transit('Baldwin County, Alabama')\n",
    "print(parameters)"
   ]
  },
  {
   "cell_type": "code",
   "execution_count": 10,
   "metadata": {},
   "outputs": [
    {
     "name": "stderr",
     "output_type": "stream",
     "text": [
      "/Users/thomastran/opt/anaconda3/lib/python3.7/site-packages/ipykernel_launcher.py:13: RuntimeWarning: overflow encountered in exp\n",
      "  del sys.path[0]\n",
      "/Users/thomastran/opt/anaconda3/lib/python3.7/site-packages/scipy/optimize/minpack.py:794: OptimizeWarning: Covariance of the parameters could not be estimated\n",
      "  category=OptimizeWarning)\n",
      "/Users/thomastran/opt/anaconda3/lib/python3.7/site-packages/ipykernel_launcher.py:13: RuntimeWarning: overflow encountered in multiply\n",
      "  del sys.path[0]\n",
      "/Users/thomastran/opt/anaconda3/lib/python3.7/site-packages/scipy/optimize/minpack.py:787: RuntimeWarning: invalid value encountered in multiply\n",
      "  pcov = pcov * s_sq\n"
     ]
    }
   ],
   "source": [
    "# stores all of the parameters\n",
    "a_list = []\n",
    "b_list = [] \n",
    "c_list = []\n",
    "valid_st = [] \n",
    "for county_st in unique_county_st:\n",
    "    a,b,c = fit_cases_transit(county_st)\n",
    "    if a != None: \n",
    "        valid_st.append(county_st) \n",
    "        a_list.append(a)\n",
    "        b_list.append(b)\n",
    "        c_list.append(c)\n"
   ]
  },
  {
   "cell_type": "code",
   "execution_count": 11,
   "metadata": {},
   "outputs": [],
   "source": [
    "parameters_df = pd.DataFrame([valid_st, a_list,b_list,c_list]).T\n",
    "parameters_df.columns = ['county', 'a', 'b','c']"
   ]
  },
  {
   "cell_type": "code",
   "execution_count": 12,
   "metadata": {},
   "outputs": [
    {
     "data": {
      "text/html": [
       "<div>\n",
       "<style scoped>\n",
       "    .dataframe tbody tr th:only-of-type {\n",
       "        vertical-align: middle;\n",
       "    }\n",
       "\n",
       "    .dataframe tbody tr th {\n",
       "        vertical-align: top;\n",
       "    }\n",
       "\n",
       "    .dataframe thead th {\n",
       "        text-align: right;\n",
       "    }\n",
       "</style>\n",
       "<table border=\"1\" class=\"dataframe\">\n",
       "  <thead>\n",
       "    <tr style=\"text-align: right;\">\n",
       "      <th></th>\n",
       "      <th>county</th>\n",
       "      <th>a</th>\n",
       "      <th>b</th>\n",
       "      <th>c</th>\n",
       "    </tr>\n",
       "  </thead>\n",
       "  <tbody>\n",
       "    <tr>\n",
       "      <td>0</td>\n",
       "      <td>Baldwin County, Alabama</td>\n",
       "      <td>68.2222</td>\n",
       "      <td>0.098662</td>\n",
       "      <td>-0.715929</td>\n",
       "    </tr>\n",
       "    <tr>\n",
       "      <td>1</td>\n",
       "      <td>Butler County, Alabama</td>\n",
       "      <td>2.31521</td>\n",
       "      <td>0.0569936</td>\n",
       "      <td>-0.110467</td>\n",
       "    </tr>\n",
       "    <tr>\n",
       "      <td>2</td>\n",
       "      <td>Chambers County, Alabama</td>\n",
       "      <td>209.655</td>\n",
       "      <td>0.11305</td>\n",
       "      <td>-3.0474</td>\n",
       "    </tr>\n",
       "    <tr>\n",
       "      <td>3</td>\n",
       "      <td>Chilton County, Alabama</td>\n",
       "      <td>27.6701</td>\n",
       "      <td>0.0761347</td>\n",
       "      <td>-0.688579</td>\n",
       "    </tr>\n",
       "    <tr>\n",
       "      <td>4</td>\n",
       "      <td>Cleburne County, Alabama</td>\n",
       "      <td>9.21079</td>\n",
       "      <td>0.0396384</td>\n",
       "      <td>-0.879003</td>\n",
       "    </tr>\n",
       "  </tbody>\n",
       "</table>\n",
       "</div>"
      ],
      "text/plain": [
       "                     county        a          b         c\n",
       "0   Baldwin County, Alabama  68.2222   0.098662 -0.715929\n",
       "1    Butler County, Alabama  2.31521  0.0569936 -0.110467\n",
       "2  Chambers County, Alabama  209.655    0.11305   -3.0474\n",
       "3   Chilton County, Alabama  27.6701  0.0761347 -0.688579\n",
       "4  Cleburne County, Alabama  9.21079  0.0396384 -0.879003"
      ]
     },
     "execution_count": 12,
     "metadata": {},
     "output_type": "execute_result"
    }
   ],
   "source": [
    "parameters_df.head()"
   ]
  },
  {
   "cell_type": "code",
   "execution_count": null,
   "metadata": {},
   "outputs": [],
   "source": []
  },
  {
   "cell_type": "code",
   "execution_count": 13,
   "metadata": {},
   "outputs": [],
   "source": [
    "reaction_df = pd.read_csv('../processed_data/google_data/county_gr_rt_transit.csv')"
   ]
  },
  {
   "cell_type": "code",
   "execution_count": 14,
   "metadata": {},
   "outputs": [
    {
     "data": {
      "text/plain": [
       "<matplotlib.collections.PathCollection at 0x10a4b1d90>"
      ]
     },
     "execution_count": 14,
     "metadata": {},
     "output_type": "execute_result"
    },
    {
     "data": {
      "image/png": "[encoded data removed]",
      "text/plain": [
       "<Figure size 432x288 with 1 Axes>"
      ]
     },
     "metadata": {
      "needs_background": "light"
     },
     "output_type": "display_data"
    }
   ],
   "source": [
    "plt.scatter(reaction_df['reaction_time'],reaction_df['growth_rate'])"
   ]
  },
  {
   "cell_type": "code",
   "execution_count": 15,
   "metadata": {},
   "outputs": [],
   "source": [
    "county_to_reaction=dict(zip(reaction_df['county'], reaction_df['reaction_time'])) "
   ]
  },
  {
   "cell_type": "code",
   "execution_count": 16,
   "metadata": {},
   "outputs": [],
   "source": [
    "parameters_df.insert(4, 'reaction_time', parameters_df['county'].map(county_to_reaction))"
   ]
  },
  {
   "cell_type": "code",
   "execution_count": 17,
   "metadata": {},
   "outputs": [],
   "source": [
    "parameters_df = parameters_df.dropna() # TODO not sure if this is the only thing we canz do \n",
    "valid_st = parameters_df['county'].unique()"
   ]
  },
  {
   "cell_type": "code",
   "execution_count": 18,
   "metadata": {},
   "outputs": [],
   "source": [
    "b = np.array(parameters_df['b'])\n",
    "reaction = np.array(parameters_df['reaction_time'])"
   ]
  },
  {
   "cell_type": "code",
   "execution_count": 19,
   "metadata": {},
   "outputs": [
    {
     "data": {
      "text/plain": [
       "<matplotlib.collections.PathCollection at 0x11fc56390>"
      ]
     },
     "execution_count": 19,
     "metadata": {},
     "output_type": "execute_result"
    },
    {
     "data": {
      "image/png": "[encoded data removed]",
      "text/plain": [
       "<Figure size 432x288 with 1 Axes>"
      ]
     },
     "metadata": {
      "needs_background": "light"
     },
     "output_type": "display_data"
    }
   ],
   "source": [
    "plt.scatter(reaction,b)"
   ]
  },
  {
   "cell_type": "code",
   "execution_count": 20,
   "metadata": {},
   "outputs": [
    {
     "data": {
      "image/png": "[encoded data removed]",
      "text/plain": [
       "<Figure size 432x288 with 1 Axes>"
      ]
     },
     "metadata": {
      "needs_background": "light"
     },
     "output_type": "display_data"
    }
   ],
   "source": [
    "# lets see what they all look like \n",
    "i = 0\n",
    "plot_num = 30\n",
    "for county_st in valid_st: \n",
    "    county_st_idx = np.where(master_df['county_st'] == county_st)[0]\n",
    "    old_t = master_df['transit stations'][county_st_idx]\n",
    "    old_y = master_df['cases'][county_st_idx]\n",
    "    y = np.array([x for _,x in sorted(zip(old_t,old_y))])\n",
    "    t = np.array(sorted(old_t))\n",
    "    # have to make the X values positive, so we shift\n",
    "    if t[0] < 0:\n",
    "        shiftamt = abs(t[0])\n",
    "        t_shift = t+shiftamt\n",
    "\n",
    "    else:\n",
    "        shiftamt = 0 \n",
    "        t_shift = t\n",
    "    # Using the python scipy function curve_fit with function and input variables\n",
    "    # find the parameters\n",
    "    _, a, b, c, reaction_time = parameters_df.iloc[np.where(parameters_df['county']\\\n",
    "                                                           == county_st)[0][0]].values\n",
    "    \n",
    "    plt.plot(X_shift-shiftamt, func(X_shift,a,b,c))\n",
    "    i+=1\n",
    "    if i == plot_num:\n",
    "        break"
   ]
  },
  {
   "cell_type": "code",
   "execution_count": 21,
   "metadata": {},
   "outputs": [],
   "source": [
    "# now that we have parameters for everything, let's try do an example \n",
    "county_st = 'Los Angeles County, California'\n",
    "_, a, b, c, reaction_time = parameters_df.iloc[np.where(parameters_df['county'] == county_st)[0][0]].values\n",
    "county_st_idx = np.where(master_df['county_st'] == county_st)[0]\n",
    "\n",
    "old_t = master_df['transit stations'][county_st_idx]\n",
    "old_y = master_df['cases'][county_st_idx]\n",
    "# the above isn't really a function, let's sort by transit decrease to smooth it out a little bit \n",
    "new_y = [x for _,x in sorted(zip(old_t,old_y))]\n",
    "new_t = sorted(old_t)"
   ]
  },
  {
   "cell_type": "code",
   "execution_count": 22,
   "metadata": {},
   "outputs": [
    {
     "data": {
      "text/plain": [
       "array([  3.,   2.,   1.,  -1.,   2., -12., -12., -12.])"
      ]
     },
     "execution_count": 22,
     "metadata": {},
     "output_type": "execute_result"
    }
   ],
   "source": [
    "t = [6,4,3,2,1,-1,2,-12]\n",
    "last = min(t)\n",
    "ret = np.ones(len(t))*last\n",
    "#ret[reaction_change:] = t[-reaction_change:]\n",
    "#ret[reaction_change:] = t[-reaction_change:]\n",
    "#t[2:] # 3,2,1,-1,2,-12\n",
    "ret[:len(t)-2] = t[2:]\n",
    "ret"
   ]
  },
  {
   "cell_type": "code",
   "execution_count": 23,
   "metadata": {},
   "outputs": [
    {
     "data": {
      "text/plain": [
       "[-20.0, -20.0, -20.0, -15.0, -3.0, -2.0, -1.0, 1.0, 2.0]"
      ]
     },
     "execution_count": 23,
     "metadata": {},
     "output_type": "execute_result"
    }
   ],
   "source": [
    "def reaction(t, reaction_change): # pass in an unsorted t, and then sort when its all done\n",
    "    # given a current t \n",
    "    if reaction_change == 0:\n",
    "        return sorted(t)\n",
    "    elif reaction_change > 0: \n",
    "        ret = np.zeros(len(t)) # no reaction \n",
    "        ret[-(len(t)-2):] = t[:len(t)-2]\n",
    "        return sorted(ret)\n",
    "    else: # TODO: ACTUAL FORECASTING INTO THE FUTURE \n",
    "        # last element of the array \n",
    "        last = min(t)\n",
    "        ret = np.ones(len(t))*last\n",
    "        ret[:len(t)-2] = t[2:]\n",
    "        return sorted(ret)\n",
    "        \n",
    "        \n",
    "test =np.array([1,3,2,1,-1,-2,-3,-15,-20])\n",
    "reaction(test, -5)"
   ]
  },
  {
   "cell_type": "code",
   "execution_count": 24,
   "metadata": {},
   "outputs": [
    {
     "data": {
      "image/png": "[encoded data removed]",
      "text/plain": [
       "<Figure size 432x288 with 1 Axes>"
      ]
     },
     "metadata": {
      "needs_background": "light"
     },
     "output_type": "display_data"
    }
   ],
   "source": [
    "# lets see what they all look like \n",
    "i = 0\n",
    "plot_num = 30\n",
    "for county_st in valid_st: \n",
    "    county_st_idx = np.where(master_df['county_st'] == county_st)[0]\n",
    "    old_t = master_df['transit stations'][county_st_idx]\n",
    "    old_y = master_df['cases'][county_st_idx]\n",
    "    y = np.array([x for _,x in sorted(zip(old_t,old_y))])\n",
    "    t = np.array(sorted(old_t))\n",
    "    # have to make the X values positive \n",
    "    if t[0] < 0:\n",
    "        shiftamt = abs(t[0])\n",
    "        t_shift = t+shiftamt\n",
    "\n",
    "    else:\n",
    "        shiftamt = 0 \n",
    "        t_shift = t\n",
    "    # Using the python scipy function curve_fit with function and input variables\n",
    "    # find the parameters\n",
    "    _, a, b, c, reaction_time = parameters_df.iloc[np.where(parameters_df['county']\\\n",
    "                                                           == county_st)[0][0]].values\n",
    "    \n",
    "    plt.plot(X_shift-shiftamt, func(X_shift,a,b,c))\n",
    "    i+=1\n",
    "    if i == plot_num:\n",
    "        break"
   ]
  },
  {
   "cell_type": "code",
   "execution_count": null,
   "metadata": {},
   "outputs": [],
   "source": []
  }
 ],
 "metadata": {
  "kernelspec": {
   "display_name": "Python 3",
   "language": "python",
   "name": "python3"
  },
  "language_info": {
   "codemirror_mode": {
    "name": "ipython",
    "version": 3
   },
   "file_extension": ".py",
   "mimetype": "text/x-python",
   "name": "python",
   "nbconvert_exporter": "python",
   "pygments_lexer": "ipython3",
   "version": "3.7.4"
  }
 },
 "nbformat": 4,
 "nbformat_minor": 2
}
