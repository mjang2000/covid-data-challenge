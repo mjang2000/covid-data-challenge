{
 "cells": [
  {
   "cell_type": "code",
   "execution_count": 9,
   "metadata": {},
   "outputs": [],
   "source": [
    "import numpy as np \n",
    "import pandas as pd "
   ]
  },
  {
   "cell_type": "code",
   "execution_count": 10,
   "metadata": {},
   "outputs": [],
   "source": [
    "from glob import glob\n",
    "files = glob('../raw_data/USDA_data/*.csv')"
   ]
  },
  {
   "cell_type": "code",
   "execution_count": 11,
   "metadata": {},
   "outputs": [],
   "source": [
    "master_df = pd.DataFrame(columns = [ 'FIPS ', 'Name', '2010', '2011', '2012', '2013', '2014',\n",
    "       '2015', '2016', '2017', '2018', 'Median Household Income (2018)',\n",
    "       '% of State Median HH Income', 'county', 'state', 'county_st'])\n",
    "length = 0\n",
    "for file in files:\n",
    "    df =pd.read_csv(file, header =1)\n",
    "    df.dropna(inplace= True)\n",
    "    state = df['Name'][0]\n",
    "    df.drop(labels = 0,inplace = True)\n",
    "    df.reset_index(drop = True,inplace = True)\n",
    "    counties = np.array(df['Name'].str.split(','))\n",
    "    length += len(df)\n",
    "    county_list = []\n",
    "    state_list = [] \n",
    "    county_st_list = [] \n",
    "    for i,county in enumerate(counties):\n",
    "        county_list.append(county[0])\n",
    "        state_list.append(state)\n",
    "        county_st_list.append(county[0] + ', ' + state)\n",
    "    df['county'] = county_list\n",
    "    df['state'] = state_list\n",
    "    df['county_st'] = county_st_list\n",
    "    master_df = master_df.append(df)"
   ]
  },
  {
   "cell_type": "code",
   "execution_count": 12,
   "metadata": {},
   "outputs": [
    {
     "data": {
      "text/plain": [
       "Index(['FIPS ', 'Name', '2010', '2011', '2012', '2013', '2014', '2015', '2016',\n",
       "       '2017', '2018', 'Median Household Income (2018)',\n",
       "       '% of State Median HH Income', 'county', 'state', 'county_st'],\n",
       "      dtype='object')"
      ]
     },
     "execution_count": 12,
     "metadata": {},
     "output_type": "execute_result"
    }
   ],
   "source": [
    "master_df.columns"
   ]
  },
  {
   "cell_type": "code",
   "execution_count": 13,
   "metadata": {
    "scrolled": true
   },
   "outputs": [],
   "source": [
    "master_df.reset_index(drop = True,inplace = True)\n",
    "master_df['Median Household Income (2018)'] = master_df['Median Household Income (2018)'].str.replace(',', '')\n",
    "master_df['Median Household Income (2018)'] = master_df['Median Household Income (2018)'].str.replace('$', '')\n",
    "master_df['Median Household Income (2018)'] = master_df['Median Household Income (2018)'].astype(float)\n",
    "\n",
    "\n",
    "master_df['% of State Median HH Income'] = master_df['% of State Median HH Income'].str.replace('%', '')\n",
    "master_df['% of State Median HH Income'] = master_df['% of State Median HH Income'].astype(float)\n"
   ]
  },
  {
   "cell_type": "code",
   "execution_count": 14,
   "metadata": {},
   "outputs": [],
   "source": [
    "master_df.to_csv('unemployment_median_county.csv', index = None)"
   ]
  },
  {
   "cell_type": "code",
   "execution_count": 65,
   "metadata": {},
   "outputs": [
    {
     "name": "stdout",
     "output_type": "stream",
     "text": [
      "3136\n",
      "3136\n"
     ]
    }
   ],
   "source": [
    "print(length)\n",
    "print(len(master_df))# check"
   ]
  },
  {
   "cell_type": "code",
   "execution_count": null,
   "metadata": {},
   "outputs": [],
   "source": []
  }
 ],
 "metadata": {
  "kernelspec": {
   "display_name": "Python 3",
   "language": "python",
   "name": "python3"
  },
  "language_info": {
   "codemirror_mode": {
    "name": "ipython",
    "version": 3
   },
   "file_extension": ".py",
   "mimetype": "text/x-python",
   "name": "python",
   "nbconvert_exporter": "python",
   "pygments_lexer": "ipython3",
   "version": "3.7.4"
  }
 },
 "nbformat": 4,
 "nbformat_minor": 2
}
